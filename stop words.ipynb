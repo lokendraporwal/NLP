{
 "cells": [
  {
   "cell_type": "code",
   "execution_count": 1,
   "metadata": {},
   "outputs": [],
   "source": [
    "from nltk.corpus import stopwords\n",
    "from nltk.tokenize import word_tokenize"
   ]
  },
  {
   "cell_type": "code",
   "execution_count": 2,
   "metadata": {},
   "outputs": [],
   "source": [
    "sentence = \"This is an example showing off stop word filtration.\"\n",
    "\n",
    "stop_words = set(stopwords.words(\"english\"))"
   ]
  },
  {
   "cell_type": "code",
   "execution_count": 3,
   "metadata": {},
   "outputs": [
    {
     "name": "stdout",
     "output_type": "stream",
     "text": [
      "{'some', \"mightn't\", 'such', 'they', 'through', 'myself', 'being', 'during', 'other', 'if', 'been', 'an', \"didn't\", 'i', \"you're\", 'with', 'about', \"couldn't\", \"you've\", 'nor', 'has', 'between', 'needn', \"haven't\", 'shouldn', 'him', 'those', 'don', 'below', 'which', 'above', 'theirs', \"hadn't\", 'itself', 'of', 'their', 're', \"aren't\", 'ours', 'o', 't', 'very', \"mustn't\", 'wouldn', 'once', 'my', 'mightn', \"wasn't\", 'you', 'are', 'but', 'when', 'll', \"weren't\", \"wouldn't\", 'wasn', 'can', 'didn', 'on', 'most', 'his', 'doing', 'it', 'further', 'how', \"shouldn't\", 'own', \"you'll\", 'them', 'ain', 'hers', 'having', 'will', 'for', 'who', 'before', 'the', 'was', 'then', 'ma', 'he', 'here', 'all', 'while', 'me', 'had', 'our', 'why', \"doesn't\", 'am', 'couldn', 'where', 'a', 'or', 'out', 'isn', 'that', 'just', 'not', 'mustn', 'both', 'more', 'up', 'by', 'in', 'hasn', 'should', 'have', 'as', 'her', 'off', \"isn't\", 've', 'doesn', 'any', 'there', \"hasn't\", 'we', 'himself', \"needn't\", 'than', 'is', \"won't\", 'yours', 'few', 'against', 'down', 'yourself', 'won', 'do', 'what', 'y', 'into', 'under', 'm', 'from', 'shan', 'over', \"it's\", 'aren', 'again', \"don't\", 'themselves', 'these', 'so', 'your', \"that'll\", 'ourselves', \"should've\", 's', 'd', 'at', 'be', 'hadn', 'same', 'whom', 'each', 'no', 'to', \"you'd\", 'does', 'only', 'she', \"shan't\", 'were', 'after', 'did', 'herself', 'yourselves', 'and', 'until', 'haven', 'its', 'because', 'weren', \"she's\", 'too', 'now', 'this'}\n"
     ]
    }
   ],
   "source": [
    "print(stop_words)"
   ]
  },
  {
   "cell_type": "code",
   "execution_count": 5,
   "metadata": {},
   "outputs": [],
   "source": [
    "words = word_tokenize(sentence)\n",
    "\n",
    "filtered_sentence = []\n",
    "\n",
    "for w in words:\n",
    "    if w not in stop_words:\n",
    "        filtered_sentence.append(w)"
   ]
  },
  {
   "cell_type": "code",
   "execution_count": 6,
   "metadata": {},
   "outputs": [
    {
     "name": "stdout",
     "output_type": "stream",
     "text": [
      "['This', 'example', 'showing', 'stop', 'word', 'filtration', '.']\n"
     ]
    }
   ],
   "source": [
    "print(filtered_sentence)"
   ]
  },
  {
   "cell_type": "code",
   "execution_count": null,
   "metadata": {},
   "outputs": [],
   "source": []
  }
 ],
 "metadata": {
  "kernelspec": {
   "display_name": "Python 3",
   "language": "python",
   "name": "python3"
  },
  "language_info": {
   "codemirror_mode": {
    "name": "ipython",
    "version": 3
   },
   "file_extension": ".py",
   "mimetype": "text/x-python",
   "name": "python",
   "nbconvert_exporter": "python",
   "pygments_lexer": "ipython3",
   "version": "3.7.4"
  }
 },
 "nbformat": 4,
 "nbformat_minor": 2
}
